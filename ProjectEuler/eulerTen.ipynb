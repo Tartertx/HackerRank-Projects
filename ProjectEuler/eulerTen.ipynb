{
 "cells": [
  {
   "cell_type": "markdown",
   "id": "9ae4588e",
   "metadata": {},
   "source": [
    "https://www.hackerrank.com/contests/projecteuler/challenges/euler010/problem?isFullScreen=true"
   ]
  },
  {
   "cell_type": "code",
   "execution_count": null,
   "id": "55da3c9c",
   "metadata": {},
   "outputs": [],
   "source": [
    "#!/bin/python3\n",
    "\n",
    "import sys\n",
    "\n",
    "\n",
    "t = int(input().strip())\n",
    "\n",
    "def findPrimes(n):\n",
    "    primes = []\n",
    "    for i in range(n):\n",
    "        i+=1\n",
    "        isPrime = True\n",
    "        for j in range(i-3):\n",
    "            j+=2\n",
    "            if i % j == 0:\n",
    "                isPrime = False\n",
    "        if isPrime is True:\n",
    "            primes+= [i]\n",
    "    return sum(primes)-1\n",
    "\n",
    "for a0 in range(t):\n",
    "    n = int(input().strip())\n",
    "    print(findPrimes(n))\n",
    "    "
   ]
  },
  {
   "cell_type": "markdown",
   "id": "538e54d7",
   "metadata": {},
   "source": [
    "with sieve of erasthones"
   ]
  },
  {
   "cell_type": "code",
   "execution_count": 1,
   "id": "99e5e74f",
   "metadata": {},
   "outputs": [
    {
     "ename": "ValueError",
     "evalue": "invalid literal for int() with base 10: ''",
     "output_type": "error",
     "traceback": [
      "\u001b[31m---------------------------------------------------------------------------\u001b[39m",
      "\u001b[31mValueError\u001b[39m                                Traceback (most recent call last)",
      "\u001b[36mCell\u001b[39m\u001b[36m \u001b[39m\u001b[32mIn[1]\u001b[39m\u001b[32m, line 24\u001b[39m\n\u001b[32m     22\u001b[39m \u001b[38;5;28;01mif\u001b[39;00m \u001b[34m__name__\u001b[39m == \u001b[33m\"\u001b[39m\u001b[33m__main__\u001b[39m\u001b[33m\"\u001b[39m:\n\u001b[32m     23\u001b[39m     t = \u001b[38;5;28mint\u001b[39m(\u001b[38;5;28minput\u001b[39m().strip())\n\u001b[32m---> \u001b[39m\u001b[32m24\u001b[39m     queries = [\u001b[38;5;28;43mint\u001b[39;49m\u001b[43m(\u001b[49m\u001b[38;5;28;43minput\u001b[39;49m\u001b[43m(\u001b[49m\u001b[43m)\u001b[49m\u001b[43m.\u001b[49m\u001b[43mstrip\u001b[49m\u001b[43m(\u001b[49m\u001b[43m)\u001b[49m\u001b[43m)\u001b[49m \u001b[38;5;28;01mfor\u001b[39;00m _ \u001b[38;5;129;01min\u001b[39;00m \u001b[38;5;28mrange\u001b[39m(t)]\n\u001b[32m     26\u001b[39m     \u001b[38;5;66;03m# Precompute once up to the largest query\u001b[39;00m\n\u001b[32m     27\u001b[39m     prefix = precompute(\u001b[38;5;28mmax\u001b[39m(queries))\n",
      "\u001b[31mValueError\u001b[39m: invalid literal for int() with base 10: ''"
     ]
    }
   ],
   "source": [
    "#!/bin/python3\n",
    "\n",
    "import sys\n",
    "\n",
    "def precompute(limit=10**6):\n",
    "    # Step 1: Sieve of Eratosthenes\n",
    "    sieve = [True] * (limit + 1)\n",
    "    sieve[0] = sieve[1] = False\n",
    "    \n",
    "    for i in range(2, int(limit**0.5) + 1):\n",
    "        if sieve[i]:\n",
    "            for j in range(i * i, limit + 1, i):\n",
    "                sieve[j] = False\n",
    "    \n",
    "    # Step 2: Prefix sum of primes\n",
    "    prefix = [0] * (limit + 1)\n",
    "    for i in range(1, limit + 1):\n",
    "        prefix[i] = prefix[i-1] + (i if sieve[i] else 0)\n",
    "    \n",
    "    return prefix\n",
    "\n",
    "if __name__ == \"__main__\":\n",
    "    t = int(input().strip())\n",
    "    queries = [int(input().strip()) for _ in range(t)]\n",
    "    \n",
    "    # Precompute once up to the largest query\n",
    "    prefix = precompute(max(queries))\n",
    "    \n",
    "    for n in queries:\n",
    "        print(prefix[n])\n"
   ]
  }
 ],
 "metadata": {
  "kernelspec": {
   "display_name": "Python 3",
   "language": "python",
   "name": "python3"
  },
  "language_info": {
   "codemirror_mode": {
    "name": "ipython",
    "version": 3
   },
   "file_extension": ".py",
   "mimetype": "text/x-python",
   "name": "python",
   "nbconvert_exporter": "python",
   "pygments_lexer": "ipython3",
   "version": "3.12.1"
  }
 },
 "nbformat": 4,
 "nbformat_minor": 5
}
