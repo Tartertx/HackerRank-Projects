{
 "cells": [
  {
   "cell_type": "markdown",
   "id": "9ae4588e",
   "metadata": {},
   "source": [
    "https://www.hackerrank.com/contests/projecteuler/challenges/euler010/problem?isFullScreen=true"
   ]
  },
  {
   "cell_type": "code",
   "execution_count": null,
   "id": "55da3c9c",
   "metadata": {},
   "outputs": [],
   "source": [
    "#!/bin/python3\n",
    "\n",
    "import sys\n",
    "\n",
    "\n",
    "t = int(input().strip())\n",
    "\n",
    "def findPrimes(n):\n",
    "    primes = []\n",
    "    for i in range(n):\n",
    "        i+=1\n",
    "        isPrime = True\n",
    "        for j in range(i-3):\n",
    "            j+=2\n",
    "            if i % j == 0:\n",
    "                isPrime = False\n",
    "        if isPrime is True:\n",
    "            primes+= [i]\n",
    "    return sum(primes)-1\n",
    "\n",
    "for a0 in range(t):\n",
    "    n = int(input().strip())\n",
    "    print(findPrimes(n))\n",
    "    "
   ]
  }
 ],
 "metadata": {
  "kernelspec": {
   "display_name": "Python 3",
   "language": "python",
   "name": "python3"
  },
  "language_info": {
   "name": "python",
   "version": "3.12.1"
  }
 },
 "nbformat": 4,
 "nbformat_minor": 5
}
