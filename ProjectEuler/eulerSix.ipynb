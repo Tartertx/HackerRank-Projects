{
 "cells": [
  {
   "cell_type": "markdown",
   "id": "7b8a5ead",
   "metadata": {},
   "source": [
    "www.hackerrank.com/contests/projecteuler/challenges/euler006/problem?isFullScreen=true"
   ]
  },
  {
   "cell_type": "code",
   "execution_count": null,
   "id": "b98a5a9c",
   "metadata": {},
   "outputs": [],
   "source": [
    "def sumSquare(n):\n",
    "    nums = 0\n",
    "    for i in range(n+1):\n",
    "        nums+= i**2\n",
    "    return nums\n",
    "\n",
    "def squareSums(n):\n",
    "    nums = 0\n",
    "    for i in range(n+1):\n",
    "        nums+=i\n",
    "    return nums**2\n",
    "\n",
    "t = int(input().strip())\n",
    "for a0 in range(t):\n",
    "    n = int(input().strip())\n",
    "    print(squareSums(n)-sumSquare(n))"
   ]
  }
 ],
 "metadata": {
  "language_info": {
   "name": "python"
  }
 },
 "nbformat": 4,
 "nbformat_minor": 5
}
