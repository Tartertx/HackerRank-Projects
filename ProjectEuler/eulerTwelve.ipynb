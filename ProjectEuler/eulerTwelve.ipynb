{
 "cells": [
  {
   "cell_type": "markdown",
   "id": "21cfa6ec",
   "metadata": {},
   "source": [
    "https://www.hackerrank.com/contests/projecteuler/challenges/euler012/problem?isFullScreen=true"
   ]
  },
  {
   "cell_type": "markdown",
   "id": "df6831a0",
   "metadata": {},
   "source": [
    "boilerplate from now on:"
   ]
  },
  {
   "cell_type": "code",
   "execution_count": null,
   "id": "c79cea7c",
   "metadata": {},
   "outputs": [],
   "source": [
    "# Enter your code here. Read input from STDIN. Print output to STDOUT\n",
    "#!/bin/python3\n",
    "\n",
    "import sys\n",
    "import math\n",
    "\n",
    "t = int(input().strip())\n",
    "for a0 in range(t):\n",
    "    n = input().strip()\n",
    "    \n",
    "    print(max(options))\n"
   ]
  }
 ],
 "metadata": {
  "kernelspec": {
   "display_name": "Python 3",
   "language": "python",
   "name": "python3"
  },
  "language_info": {
   "name": "python",
   "version": "3.12.1"
  }
 },
 "nbformat": 4,
 "nbformat_minor": 5
}
