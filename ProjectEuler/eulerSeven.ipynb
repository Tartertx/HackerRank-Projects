{
 "cells": [
  {
   "cell_type": "markdown",
   "id": "5e75addf",
   "metadata": {},
   "source": [
    "https://www.hackerrank.com/contests/projecteuler/challenges/euler006/problem?isFullScreen=true"
   ]
  },
  {
   "cell_type": "code",
   "execution_count": 1,
   "id": "15cc13cf",
   "metadata": {},
   "outputs": [
    {
     "ename": "NameError",
     "evalue": "name 'sys' is not defined",
     "output_type": "error",
     "traceback": [
      "\u001b[31m---------------------------------------------------------------------------\u001b[39m",
      "\u001b[31mNameError\u001b[39m                                 Traceback (most recent call last)",
      "\u001b[36mCell\u001b[39m\u001b[36m \u001b[39m\u001b[32mIn[1]\u001b[39m\u001b[32m, line 1\u001b[39m\n\u001b[32m----> \u001b[39m\u001b[32m1\u001b[39m data = \u001b[43msys\u001b[49m.stdin.read().strip().split()\n\u001b[32m      2\u001b[39m t = \u001b[38;5;28mint\u001b[39m(data[\u001b[32m0\u001b[39m])\n\u001b[32m      3\u001b[39m qs = \u001b[38;5;28mlist\u001b[39m(\u001b[38;5;28mmap\u001b[39m(\u001b[38;5;28mint\u001b[39m, data[\u001b[32m1\u001b[39m:]))\n",
      "\u001b[31mNameError\u001b[39m: name 'sys' is not defined"
     ]
    }
   ],
   "source": [
    "data = sys.stdin.read().strip().split()\n",
    "t = int(data[0])\n",
    "qs = list(map(int, data[1:]))\n",
    "\n",
    "maxN = max(qs)\n",
    "\n",
    "primes = []\n",
    "x = 2\n",
    "while len(primes) < maxN:\n",
    "    is_p = True\n",
    "    r = int(x**0.5)\n",
    "    for p in primes:\n",
    "        if p > r: break\n",
    "        if x % p == 0:\n",
    "            is_p = False\n",
    "            break\n",
    "    if is_p:\n",
    "        primes.append(x)\n",
    "    x += 1 if x == 2 else 2  # test 2, then only odds\n",
    "\n",
    "out = [str(primes[n-1]) for n in qs]\n",
    "print(\"\\n\".join(out))"
   ]
  }
 ],
 "metadata": {
  "kernelspec": {
   "display_name": "Python 3",
   "language": "python",
   "name": "python3"
  },
  "language_info": {
   "codemirror_mode": {
    "name": "ipython",
    "version": 3
   },
   "file_extension": ".py",
   "mimetype": "text/x-python",
   "name": "python",
   "nbconvert_exporter": "python",
   "pygments_lexer": "ipython3",
   "version": "3.12.1"
  }
 },
 "nbformat": 4,
 "nbformat_minor": 5
}
