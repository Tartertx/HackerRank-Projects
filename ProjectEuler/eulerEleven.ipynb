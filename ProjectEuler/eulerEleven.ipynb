{
 "cells": [
  {
   "cell_type": "markdown",
   "id": "5f377dbd",
   "metadata": {},
   "source": [
    "https://www.hackerrank.com/contests/projecteuler/challenges/euler011/problem?isFullScreen=true\n",
    "\n",
    "This one is diabolical and I will do it later"
   ]
  },
  {
   "cell_type": "code",
   "execution_count": null,
   "id": "47f64741",
   "metadata": {
    "vscode": {
     "languageId": "plaintext"
    }
   },
   "outputs": [],
   "source": []
  }
 ],
 "metadata": {
  "language_info": {
   "name": "python"
  }
 },
 "nbformat": 4,
 "nbformat_minor": 5
}
