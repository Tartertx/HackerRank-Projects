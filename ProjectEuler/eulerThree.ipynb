{
 "cells": [
  {
   "cell_type": "markdown",
   "id": "3f7647d0",
   "metadata": {},
   "source": [
    "https://www.hackerrank.com/contests/projecteuler/challenges/euler003/problem?isFullScreen=true"
   ]
  },
  {
   "cell_type": "code",
   "execution_count": null,
   "id": "691188de",
   "metadata": {},
   "outputs": [],
   "source": [
    "t = int(input().strip())\n",
    "for a0 in range(t):\n",
    "    n = int(input().strip())\n",
    "    factors = []\n",
    "    for i in range(n-2):\n",
    "        if n % (i+2) == 0:\n",
    "            factors += [i+2]\n",
    "    \n",
    "    if len(factors) == 0:\n",
    "        factors += [n]\n",
    "    \n",
    "    for i in range(len(factors)):\n",
    "        primeFactors = []\n",
    "        isFactor = False\n",
    "        for factor in range(len(factors)-1):\n",
    "            if factors[-1] % factors[factor] == 0:\n",
    "                isFactor = True\n",
    "        if isFactor is False:\n",
    "            primeFactors += [factors[-1]]\n",
    "        else:\n",
    "            factors = factors[:-1]\n",
    "\n",
    "    print(max(primeFactors))"
   ]
  }
 ],
 "metadata": {
  "kernelspec": {
   "display_name": "Python 3",
   "language": "python",
   "name": "python3"
  },
  "language_info": {
   "name": "python",
   "version": "3.12.1"
  }
 },
 "nbformat": 4,
 "nbformat_minor": 5
}
