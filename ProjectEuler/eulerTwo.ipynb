{
 "cells": [
  {
   "cell_type": "markdown",
   "id": "5f3da301",
   "metadata": {},
   "source": [
    "https://www.hackerrank.com/contests/projecteuler/challenges/euler002/problem?isFullScreen=true"
   ]
  },
  {
   "cell_type": "code",
   "execution_count": null,
   "id": "488ad525",
   "metadata": {},
   "outputs": [],
   "source": [
    "import sys\n",
    "\n",
    "\n",
    "t = int(input().strip())\n",
    "for a0 in range(t):\n",
    "    n = int(input().strip())\n",
    "    def makeFib(n):\n",
    "        fiblist = [1,2]\n",
    "        for i in range(n):\n",
    "            if fiblist[i+1]+fiblist[i] < n:\n",
    "                fiblist += [fiblist[i+1]+fiblist[i]]\n",
    "            else:\n",
    "                return fiblist\n",
    "        return fiblist\n",
    "    \n",
    "    def evenFibs(fiblist):\n",
    "        nl = 0\n",
    "        for i in range(len(fiblist)):\n",
    "            if fiblist[i] % 2 == 0:\n",
    "                nl += fiblist[i]\n",
    "        return nl\n",
    "    outp = evenFibs(makeFib(n))\n",
    "    print(outp)"
   ]
  }
 ],
 "metadata": {
  "language_info": {
   "name": "python"
  }
 },
 "nbformat": 4,
 "nbformat_minor": 5
}
