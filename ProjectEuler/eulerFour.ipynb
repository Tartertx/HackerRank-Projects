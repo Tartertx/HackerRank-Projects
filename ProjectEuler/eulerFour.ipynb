{
 "cells": [
  {
   "cell_type": "markdown",
   "id": "0739b11a",
   "metadata": {},
   "source": [
    "https://www.hackerrank.com/contests/projecteuler/challenges/euler004/problem?isFullScreen=true"
   ]
  },
  {
   "cell_type": "code",
   "execution_count": null,
   "id": "985a77b2",
   "metadata": {},
   "outputs": [
    {
     "name": "stdout",
     "output_type": "stream",
     "text": [
      "906609\n",
      "906609\n",
      "906609\n",
      "906609\n",
      "672276\n",
      "452254\n",
      "464464\n"
     ]
    },
    {
     "ename": "ValueError",
     "evalue": "invalid literal for int() with base 10: ''",
     "output_type": "error",
     "traceback": [
      "\u001b[31m---------------------------------------------------------------------------\u001b[39m",
      "\u001b[31mValueError\u001b[39m                                Traceback (most recent call last)",
      "\u001b[36mCell\u001b[39m\u001b[36m \u001b[39m\u001b[32mIn[4]\u001b[39m\u001b[32m, line 3\u001b[39m\n\u001b[32m      1\u001b[39m t = \u001b[38;5;28mint\u001b[39m(\u001b[38;5;28minput\u001b[39m().strip())\n\u001b[32m      2\u001b[39m \u001b[38;5;28;01mfor\u001b[39;00m a0 \u001b[38;5;129;01min\u001b[39;00m \u001b[38;5;28mrange\u001b[39m(t):\n\u001b[32m----> \u001b[39m\u001b[32m3\u001b[39m     n = \u001b[38;5;28;43mint\u001b[39;49m\u001b[43m(\u001b[49m\u001b[38;5;28;43minput\u001b[39;49m\u001b[43m(\u001b[49m\u001b[43m)\u001b[49m\u001b[43m.\u001b[49m\u001b[43mstrip\u001b[49m\u001b[43m(\u001b[49m\u001b[43m)\u001b[49m\u001b[43m)\u001b[49m\n\u001b[32m      4\u001b[39m     \u001b[38;5;28;01mdef\u001b[39;00m\u001b[38;5;250m \u001b[39m\u001b[34misPal\u001b[39m(string, num):\n\u001b[32m      5\u001b[39m         m = \u001b[38;5;28mlen\u001b[39m(string)//\u001b[32m2\u001b[39m\n",
      "\u001b[31mValueError\u001b[39m: invalid literal for int() with base 10: ''"
     ]
    }
   ],
   "source": [
    "t = int(input().strip())\n",
    "for a0 in range(t):\n",
    "    n = int(input().strip())\n",
    "    def isPal(string, num):\n",
    "        m = len(string)//2\n",
    "        first = string[0:m]\n",
    "        last = ''\n",
    "        for i in range(m): \n",
    "            mp = len(string)-i-1\n",
    "            last += string[mp]\n",
    "        if first == last:\n",
    "            return num\n",
    "        else:\n",
    "            return 0\n",
    "    pals = []\n",
    "    for j in range(999, 99,-1):\n",
    "        for i in range(999,99,-1):\n",
    "            k = i * j\n",
    "            if k < n:\n",
    "                pals += [isPal(f'{k}', k)]\n",
    "    if len(pals)!=0:\n",
    "        print(max(pals))\n",
    "    else:\n",
    "        print('No such integer.')"
   ]
  },
  {
   "cell_type": "markdown",
   "id": "4f631009",
   "metadata": {},
   "source": [
    "alternative solution with a cool package called bisect"
   ]
  },
  {
   "cell_type": "code",
   "execution_count": 5,
   "id": "be48adea",
   "metadata": {},
   "outputs": [
    {
     "name": "stdout",
     "output_type": "stream",
     "text": [
      "456654\n",
      "906609\n",
      "861168\n"
     ]
    },
    {
     "ename": "ValueError",
     "evalue": "invalid literal for int() with base 10: ''",
     "output_type": "error",
     "traceback": [
      "\u001b[31m---------------------------------------------------------------------------\u001b[39m",
      "\u001b[31mValueError\u001b[39m                                Traceback (most recent call last)",
      "\u001b[36mCell\u001b[39m\u001b[36m \u001b[39m\u001b[32mIn[5]\u001b[39m\u001b[32m, line 17\u001b[39m\n\u001b[32m     15\u001b[39m t = \u001b[38;5;28mint\u001b[39m(\u001b[38;5;28minput\u001b[39m().strip())\n\u001b[32m     16\u001b[39m \u001b[38;5;28;01mfor\u001b[39;00m _ \u001b[38;5;129;01min\u001b[39;00m \u001b[38;5;28mrange\u001b[39m(t):\n\u001b[32m---> \u001b[39m\u001b[32m17\u001b[39m     n = \u001b[38;5;28;43mint\u001b[39;49m\u001b[43m(\u001b[49m\u001b[38;5;28;43minput\u001b[39;49m\u001b[43m(\u001b[49m\u001b[43m)\u001b[49m\u001b[43m.\u001b[49m\u001b[43mstrip\u001b[49m\u001b[43m(\u001b[49m\u001b[43m)\u001b[49m\u001b[43m)\u001b[49m\n\u001b[32m     18\u001b[39m     idx = bisect.bisect_left(pal_list, n)\n\u001b[32m     19\u001b[39m     \u001b[38;5;28;01mif\u001b[39;00m idx == \u001b[32m0\u001b[39m:\n",
      "\u001b[31mValueError\u001b[39m: invalid literal for int() with base 10: ''"
     ]
    }
   ],
   "source": [
    "import bisect\n",
    "\n",
    "# Step 1: Precompute all palindromes from 3-digit products\n",
    "palindromes = set()\n",
    "for i in range(100, 1000):\n",
    "    for j in range(i, 1000):  # i to avoid duplicates\n",
    "        prod = i * j\n",
    "        if str(prod) == str(prod)[::-1]:\n",
    "            palindromes.add(prod)\n",
    "\n",
    "# Step 2: Sort for binary search\n",
    "pal_list = sorted(palindromes)\n",
    "\n",
    "# Step 3: Handle queries\n",
    "t = int(input().strip())\n",
    "for _ in range(t):\n",
    "    n = int(input().strip())\n",
    "    idx = bisect.bisect_left(pal_list, n)\n",
    "    if idx == 0:\n",
    "        print(\"No such integer.\")\n",
    "    else:\n",
    "        print(pal_list[idx - 1])"
   ]
  }
 ],
 "metadata": {
  "kernelspec": {
   "display_name": "Python 3",
   "language": "python",
   "name": "python3"
  },
  "language_info": {
   "codemirror_mode": {
    "name": "ipython",
    "version": 3
   },
   "file_extension": ".py",
   "mimetype": "text/x-python",
   "name": "python",
   "nbconvert_exporter": "python",
   "pygments_lexer": "ipython3",
   "version": "3.12.1"
  }
 },
 "nbformat": 4,
 "nbformat_minor": 5
}
