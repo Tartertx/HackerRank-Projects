{
 "cells": [
  {
   "cell_type": "markdown",
   "id": "1f9a032a",
   "metadata": {},
   "source": [
    "https://www.hackerrank.com/contests/projecteuler/challenges/euler008/problem?isFullScreen=true"
   ]
  },
  {
   "cell_type": "code",
   "execution_count": null,
   "id": "03622eaf",
   "metadata": {},
   "outputs": [],
   "source": [
    "#!/bin/python3\n",
    "\n",
    "import sys\n",
    "import math\n",
    "\n",
    "t = int(input().strip())\n",
    "for a0 in range(t):\n",
    "    n,k = input().strip().split(' ')\n",
    "    n,k = [int(n),int(k)]\n",
    "    num = input().strip()\n",
    "    \n",
    "    digits = []\n",
    "    for i in range(len(num)):\n",
    "        digits+= [int(num[i])]\n",
    "    \n",
    "    options = []\n",
    "    for i in range(n-k):\n",
    "        options += [math.prod(digits[i:i+k])]\n",
    "           \n",
    "    print(max(options))"
   ]
  }
 ],
 "metadata": {
  "language_info": {
   "name": "python"
  }
 },
 "nbformat": 4,
 "nbformat_minor": 5
}
