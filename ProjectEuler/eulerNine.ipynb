{
 "cells": [
  {
   "cell_type": "markdown",
   "id": "2789b022",
   "metadata": {},
   "source": [
    "https://www.hackerrank.com/contests/projecteuler/challenges/euler009/problem?isFullScreen=true"
   ]
  },
  {
   "cell_type": "code",
   "execution_count": null,
   "id": "97f59186",
   "metadata": {},
   "outputs": [],
   "source": [
    "import sys\n",
    "import math\n",
    "\n",
    "\n",
    "def max_abc_with_perimeter(N: int) -> int:\n",
    "    best = -1\n",
    "    limit = int(math.isqrt(N // 2))\n",
    "    for m in range(2, limit + 1):\n",
    "        if N % (2*m) != 0:\n",
    "            continue\n",
    "        s = N // (2*m)              # s = k*(m+n)\n",
    "        for n in range(1, m): \n",
    "            if ((m - n) & 1) == 0:  # need opposite parity\n",
    "                continue\n",
    "            if math.gcd(m, n) != 1:\n",
    "                continue\n",
    "            if s % (m + n) != 0:\n",
    "                continue\n",
    "            k = s // (m + n)\n",
    "            a = k * (m*m - n*n)\n",
    "            b = k * (2*m*n)\n",
    "            c = k * (m*m + n*n)\n",
    "            best = max(best, a*b*c)\n",
    "    return best\n",
    "\n",
    "# I/O\n",
    "t = int(sys.stdin.readline())\n",
    "for _ in range(t):\n",
    "    N = int(sys.stdin.readline())\n",
    "    print(max_abc_with_perimeter(N))"
   ]
  }
 ],
 "metadata": {
  "language_info": {
   "name": "python"
  }
 },
 "nbformat": 4,
 "nbformat_minor": 5
}
