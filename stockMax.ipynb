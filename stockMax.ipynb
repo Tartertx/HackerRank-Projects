{
 "cells": [
  {
   "cell_type": "markdown",
   "id": "de30f6c2",
   "metadata": {},
   "source": [
    "Stock Maximize: https://www.hackerrank.com/challenges/stockmax/problem?isFullScreen=true"
   ]
  },
  {
   "cell_type": "code",
   "execution_count": 3,
   "id": "58947a0f",
   "metadata": {},
   "outputs": [
    {
     "name": "stdout",
     "output_type": "stream",
     "text": [
      "11\n"
     ]
    }
   ],
   "source": [
    "\n",
    "import math\n",
    "import os\n",
    "import random\n",
    "import re\n",
    "import sys\n",
    "\n",
    "\n",
    "def stockmax(prices):\n",
    "    # Write your code here\n",
    "    max_num = 0\n",
    "    profit=0\n",
    "    n=len(prices)\n",
    "    \n",
    "    #\n",
    "    for i in range(n-1, -1, -1):\n",
    "        if prices[i] > max_num:\n",
    "            max_num = prices[i]\n",
    "        else:\n",
    "            profit += max_num - prices[i]\n",
    "    return profit\n",
    "\n",
    "print(stockmax([5,3,2,7]))"
   ]
  }
 ],
 "metadata": {
  "kernelspec": {
   "display_name": "Python 3",
   "language": "python",
   "name": "python3"
  },
  "language_info": {
   "codemirror_mode": {
    "name": "ipython",
    "version": 3
   },
   "file_extension": ".py",
   "mimetype": "text/x-python",
   "name": "python",
   "nbconvert_exporter": "python",
   "pygments_lexer": "ipython3",
   "version": "3.12.1"
  }
 },
 "nbformat": 4,
 "nbformat_minor": 5
}
