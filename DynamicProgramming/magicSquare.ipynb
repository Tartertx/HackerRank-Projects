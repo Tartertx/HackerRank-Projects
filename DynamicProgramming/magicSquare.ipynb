{
 "cells": [
  {
   "cell_type": "markdown",
   "id": "0922ec70",
   "metadata": {},
   "source": [
    "https://www.hackerrank.com/challenges/magic-square-forming/problem?isFullScreen=true"
   ]
  },
  {
   "cell_type": "code",
   "execution_count": 1,
   "id": "f5c2270a",
   "metadata": {},
   "outputs": [],
   "source": [
    "import math\n",
    "import os\n",
    "import random\n",
    "import re\n",
    "import sys\n",
    "\n",
    "#\n",
    "# Complete the 'formingMagicSquare' function below.\n",
    "#\n",
    "# The function is expected to return an INTEGER.\n",
    "# The function accepts 2D_INTEGER_ARRAY s as parameter.\n",
    "#\n",
    "def formingMagicSquare(s):\n",
    "    # All possible 3x3 magic squares (rotations/reflections)\n",
    "    magic_squares = [\n",
    "        [[8, 1, 6], [3, 5, 7], [4, 9, 2]],\n",
    "        [[6, 1, 8], [7, 5, 3], [2, 9, 4]],\n",
    "        [[4, 9, 2], [3, 5, 7], [8, 1, 6]],\n",
    "        [[2, 9, 4], [7, 5, 3], [6, 1, 8]],\n",
    "        [[8, 3, 4], [1, 5, 9], [6, 7, 2]],\n",
    "        [[4, 3, 8], [9, 5, 1], [2, 7, 6]],\n",
    "        [[6, 7, 2], [1, 5, 9], [8, 3, 4]],\n",
    "        [[2, 7, 6], [9, 5, 1], [4, 3, 8]]\n",
    "    ]\n",
    "    \n",
    "    min_cost = float('inf')\n",
    "    \n",
    "    for magic in magic_squares:\n",
    "        cost = sum(abs(s[i][j] - magic[i][j]) for i in range(3) for j in range(3))\n",
    "        min_cost = min(min_cost, cost)\n",
    "    \n",
    "    return min_cost  "
   ]
  }
 ],
 "metadata": {
  "kernelspec": {
   "display_name": "Python 3",
   "language": "python",
   "name": "python3"
  },
  "language_info": {
   "codemirror_mode": {
    "name": "ipython",
    "version": 3
   },
   "file_extension": ".py",
   "mimetype": "text/x-python",
   "name": "python",
   "nbconvert_exporter": "python",
   "pygments_lexer": "ipython3",
   "version": "3.12.1"
  }
 },
 "nbformat": 4,
 "nbformat_minor": 5
}
