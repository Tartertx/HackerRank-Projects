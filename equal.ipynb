{
 "cells": [
  {
   "cell_type": "markdown",
   "id": "2d0422fb",
   "metadata": {},
   "source": [
    "Equal Problem:\n",
    "https://www.hackerrank.com/challenges/equal/problem?isFullScreen=true"
   ]
  },
  {
   "cell_type": "code",
   "execution_count": 3,
   "id": "169e24e9",
   "metadata": {},
   "outputs": [
    {
     "name": "stdout",
     "output_type": "stream",
     "text": [
      "0\n",
      "5\n",
      "51\n"
     ]
    }
   ],
   "source": [
    "import math\n",
    "import os\n",
    "import random\n",
    "import re\n",
    "import sys\n",
    "\n",
    "\n",
    "test1 = [10, 10, 10, 10, 10]\n",
    "test2 = [2, 2, 3, 7, 14]\n",
    "test3 = [1, 100, 50, 75, 25]\n",
    "\n",
    "def equal(arr):\n",
    "    min_value = min(arr)\n",
    "    results = []\n",
    "    \n",
    "    for base in range(min_value, min_value - 5, -1):\n",
    "        moves = 0\n",
    "        for x in arr:\n",
    "            diff = x - base\n",
    "            moves += diff // 5\n",
    "            diff %= 5\n",
    "            moves += diff // 2\n",
    "            diff %= 2\n",
    "            moves += diff\n",
    "        results.append(moves)\n",
    "    \n",
    "    return min(results)\n",
    "\n",
    "print(equal(test1))\n",
    "print(equal(test2))\n",
    "print(equal(test3))"
   ]
  }
 ],
 "metadata": {
  "kernelspec": {
   "display_name": "Python 3",
   "language": "python",
   "name": "python3"
  },
  "language_info": {
   "codemirror_mode": {
    "name": "ipython",
    "version": 3
   },
   "file_extension": ".py",
   "mimetype": "text/x-python",
   "name": "python",
   "nbconvert_exporter": "python",
   "pygments_lexer": "ipython3",
   "version": "3.12.1"
  }
 },
 "nbformat": 4,
 "nbformat_minor": 5
}
