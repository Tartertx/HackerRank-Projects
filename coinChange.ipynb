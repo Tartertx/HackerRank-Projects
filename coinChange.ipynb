{
 "cells": [
  {
   "cell_type": "markdown",
   "id": "5ddb75db",
   "metadata": {},
   "source": [
    "Coin Change Problem: https://www.hackerrank.com/challenges/coin-change/problem?isFullScreen=true"
   ]
  },
  {
   "cell_type": "code",
   "execution_count": 1,
   "id": "41f6d531",
   "metadata": {},
   "outputs": [
    {
     "name": "stdout",
     "output_type": "stream",
     "text": [
      "19\n"
     ]
    }
   ],
   "source": [
    "\n",
    "import math\n",
    "import os\n",
    "import random\n",
    "import re\n",
    "import sys\n",
    "\n",
    "c = [4,7,8]\n",
    "\n",
    "def getWays(n, c):\n",
    "    dp = [0] * (n + 1)\n",
    "    dp[0] = 1  # Base case: one way to make 0 amount\n",
    "    \n",
    "    for coin in c:\n",
    "        for amount in range(coin, n + 1):\n",
    "            dp[amount] += dp[amount - coin]\n",
    "    \n",
    "    return dp[n]\n",
    "\n",
    "\n",
    "print(getWays(72,c))"
   ]
  }
 ],
 "metadata": {
  "kernelspec": {
   "display_name": "Python 3",
   "language": "python",
   "name": "python3"
  },
  "language_info": {
   "codemirror_mode": {
    "name": "ipython",
    "version": 3
   },
   "file_extension": ".py",
   "mimetype": "text/x-python",
   "name": "python",
   "nbconvert_exporter": "python",
   "pygments_lexer": "ipython3",
   "version": "3.12.1"
  }
 },
 "nbformat": 4,
 "nbformat_minor": 5
}
