{
 "cells": [
  {
   "cell_type": "markdown",
   "id": "cdf41dfd",
   "metadata": {},
   "source": [
    "Password Cracker: https://www.hackerrank.com/challenges/password-cracker/problem?isFullScreen=true"
   ]
  },
  {
   "cell_type": "code",
   "execution_count": null,
   "id": "773007f0",
   "metadata": {},
   "outputs": [
    {
     "name": "stdout",
     "output_type": "stream",
     "text": [
      "el mo\n"
     ]
    }
   ],
   "source": [
    "#!/bin/python3\n",
    "\n",
    "import math\n",
    "import os\n",
    "import random\n",
    "import re\n",
    "import sys\n",
    "\n",
    "#\n",
    "# Complete the 'passwordCracker' function below.\n",
    "# \n",
    "# The function is expected to return a STRING.\n",
    "# The function accepts following parameters:\n",
    "#  1. STRING_ARRAY passwords\n",
    "#  2. STRING loginAttempt\n",
    "#\n",
    "\n",
    "def passwordCracker(passwords, loginAttempt):\n",
    "    memo = {}\n",
    "    \n",
    "    def dfs(attempt):\n",
    "        if attempt in memo:\n",
    "            return memo[attempt]\n",
    "        if attempt == \"\":\n",
    "            return []\n",
    "        \n",
    "        for p in passwords:\n",
    "            if attempt.startswith(p):\n",
    "                result = dfs(attempt[len(p):])\n",
    "                if result is not None:\n",
    "                    memo[attempt] = [p] + result\n",
    "                    return memo[attempt]\n",
    "        \n",
    "        memo[attempt] = None\n",
    "        return None\n",
    "    \n",
    "    result = dfs(loginAttempt)\n",
    "    return \" \".join(result) if result else \"WRONG PASSWORD\" \n",
    "\n",
    "passwords = ['ka', 'bas', 'lo', 'el','mo']\n",
    "attempt = 'elmo'\n",
    "\n",
    "print(passwordCracker(passwords, attempt))"
   ]
  }
 ],
 "metadata": {
  "kernelspec": {
   "display_name": "Python 3",
   "language": "python",
   "name": "python3"
  },
  "language_info": {
   "codemirror_mode": {
    "name": "ipython",
    "version": 3
   },
   "file_extension": ".py",
   "mimetype": "text/x-python",
   "name": "python",
   "nbconvert_exporter": "python",
   "pygments_lexer": "ipython3",
   "version": "3.12.1"
  }
 },
 "nbformat": 4,
 "nbformat_minor": 5
}
